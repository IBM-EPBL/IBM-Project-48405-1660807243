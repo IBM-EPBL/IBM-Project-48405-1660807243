{
 "cells": [
  {
   "cell_type": "code",
   "execution_count": 28,
   "id": "a8f292bd",
   "metadata": {},
   "outputs": [],
   "source": [
    "import pandas as pd\n",
    "import numpy as np\n",
    "import matplotlib as plt\n",
    "from sklearn.preprocessing import LabelEncoder\n",
    "import pickle"
   ]
  },
  {
   "cell_type": "code",
   "execution_count": 29,
   "id": "531dc191",
   "metadata": {},
   "outputs": [
    {
     "data": {
      "text/html": [
       "<div>\n",
       "<style scoped>\n",
       "    .dataframe tbody tr th:only-of-type {\n",
       "        vertical-align: middle;\n",
       "    }\n",
       "\n",
       "    .dataframe tbody tr th {\n",
       "        vertical-align: top;\n",
       "    }\n",
       "\n",
       "    .dataframe thead th {\n",
       "        text-align: right;\n",
       "    }\n",
       "</style>\n",
       "<table border=\"1\" class=\"dataframe\">\n",
       "  <thead>\n",
       "    <tr style=\"text-align: right;\">\n",
       "      <th></th>\n",
       "      <th>Unnamed: 0</th>\n",
       "      <th>price</th>\n",
       "      <th>vehicleType</th>\n",
       "      <th>yearOfRegistration</th>\n",
       "      <th>gearbox</th>\n",
       "      <th>powerPS</th>\n",
       "      <th>model</th>\n",
       "      <th>kilometer</th>\n",
       "      <th>monthOfRegistration</th>\n",
       "      <th>fuelType</th>\n",
       "      <th>brand</th>\n",
       "      <th>notRepairedDamage</th>\n",
       "    </tr>\n",
       "  </thead>\n",
       "  <tbody>\n",
       "    <tr>\n",
       "      <th>0</th>\n",
       "      <td>1</td>\n",
       "      <td>18300</td>\n",
       "      <td>coupe</td>\n",
       "      <td>2011</td>\n",
       "      <td>manual</td>\n",
       "      <td>190</td>\n",
       "      <td>not-declared</td>\n",
       "      <td>125000</td>\n",
       "      <td>5</td>\n",
       "      <td>diesel</td>\n",
       "      <td>audi</td>\n",
       "      <td>Yes</td>\n",
       "    </tr>\n",
       "    <tr>\n",
       "      <th>1</th>\n",
       "      <td>2</td>\n",
       "      <td>9800</td>\n",
       "      <td>suv</td>\n",
       "      <td>2004</td>\n",
       "      <td>automatic</td>\n",
       "      <td>163</td>\n",
       "      <td>grand</td>\n",
       "      <td>125000</td>\n",
       "      <td>8</td>\n",
       "      <td>diesel</td>\n",
       "      <td>jeep</td>\n",
       "      <td>not-declared</td>\n",
       "    </tr>\n",
       "    <tr>\n",
       "      <th>2</th>\n",
       "      <td>3</td>\n",
       "      <td>1500</td>\n",
       "      <td>small car</td>\n",
       "      <td>2001</td>\n",
       "      <td>manual</td>\n",
       "      <td>75</td>\n",
       "      <td>golf</td>\n",
       "      <td>150000</td>\n",
       "      <td>6</td>\n",
       "      <td>petrol</td>\n",
       "      <td>volkswagen</td>\n",
       "      <td>No</td>\n",
       "    </tr>\n",
       "    <tr>\n",
       "      <th>3</th>\n",
       "      <td>4</td>\n",
       "      <td>3600</td>\n",
       "      <td>small car</td>\n",
       "      <td>2008</td>\n",
       "      <td>manual</td>\n",
       "      <td>69</td>\n",
       "      <td>fabia</td>\n",
       "      <td>90000</td>\n",
       "      <td>7</td>\n",
       "      <td>diesel</td>\n",
       "      <td>skoda</td>\n",
       "      <td>No</td>\n",
       "    </tr>\n",
       "    <tr>\n",
       "      <th>4</th>\n",
       "      <td>5</td>\n",
       "      <td>650</td>\n",
       "      <td>limousine</td>\n",
       "      <td>1995</td>\n",
       "      <td>manual</td>\n",
       "      <td>102</td>\n",
       "      <td>3er</td>\n",
       "      <td>150000</td>\n",
       "      <td>10</td>\n",
       "      <td>petrol</td>\n",
       "      <td>bmw</td>\n",
       "      <td>Yes</td>\n",
       "    </tr>\n",
       "  </tbody>\n",
       "</table>\n",
       "</div>"
      ],
      "text/plain": [
       "   Unnamed: 0  price vehicleType  yearOfRegistration    gearbox  powerPS  \\\n",
       "0           1  18300       coupe                2011     manual      190   \n",
       "1           2   9800         suv                2004  automatic      163   \n",
       "2           3   1500   small car                2001     manual       75   \n",
       "3           4   3600   small car                2008     manual       69   \n",
       "4           5    650   limousine                1995     manual      102   \n",
       "\n",
       "          model  kilometer  monthOfRegistration fuelType       brand  \\\n",
       "0  not-declared     125000                    5   diesel        audi   \n",
       "1         grand     125000                    8   diesel        jeep   \n",
       "2          golf     150000                    6   petrol  volkswagen   \n",
       "3         fabia      90000                    7   diesel       skoda   \n",
       "4           3er     150000                   10   petrol         bmw   \n",
       "\n",
       "  notRepairedDamage  \n",
       "0               Yes  \n",
       "1      not-declared  \n",
       "2                No  \n",
       "3                No  \n",
       "4               Yes  "
      ]
     },
     "execution_count": 29,
     "metadata": {},
     "output_type": "execute_result"
    }
   ],
   "source": [
    "import os, types\n",
    "import pandas as pd\n",
    "from botocore.client import Config\n",
    "import ibm_boto3\n",
    "\n",
    "def __iter__(self): return 0\n",
    "\n",
    "# @hidden_cell\n",
    "# The following code accesses a file in your IBM Cloud Object Storage. It includes your credentials.\n",
    "# You might want to remove those credentials before you share the notebook.\n",
    "cos_client = ibm_boto3.client(service_name='s3',\n",
    "    ibm_api_key_id='xxxxxxxxxxxxxxxxxxxxxxxxxxxxxxxxxxxxxx',\n",
    "    ibm_auth_endpoint=\"https://iam.cloud.ibm.com/oidc/token\",\n",
    "    config=Config(signature_version='oauth'),\n",
    "    endpoint_url='https://s3.private.us.cloud-object-storage.appdomain.cloud')\n",
    "\n",
    "bucket = 'carresalevaluepredictiondeploymen-donotdelete-pr-ryosh4pvhxemjh'\n",
    "object_key = 'autos_preprocessed.csv'\n",
    "\n",
    "body = cos_client.get_object(Bucket=bucket,Key=object_key)['Body']\n",
    "# add missing __iter__ method, so pandas accepts body as file-like object\n",
    "if not hasattr(body, \"__iter__\"): body.__iter__ = types.MethodType( __iter__, body )\n",
    "\n",
    "df = pd.read_csv(body)\n",
    "df.head()\n"
   ]
  },
  {
   "cell_type": "code",
   "execution_count": 30,
   "id": "62479c99",
   "metadata": {},
   "outputs": [],
   "source": [
    "\n",
    "\n",
    "# print(df.seller.value_counts())\n",
    "# df[df.seller!='gewerblich']\n",
    "# # df=df.drop('seller',1)\n",
    "# print(df.offerType.value_counts())\n",
    "# df[df.offerType!='Gesuch']\n",
    "# df=df.drop('offerType',1)"
   ]
  },
  {
   "cell_type": "code",
   "execution_count": 31,
   "id": "ca1133bb",
   "metadata": {
    "scrolled": true
   },
   "outputs": [
    {
     "name": "stdout",
     "output_type": "stream",
     "text": [
      "(278578, 12)\n",
      "(278578, 12)\n"
     ]
    }
   ],
   "source": [
    "print(df.shape)\n",
    "df=df[(df.powerPS >50) & (df.powerPS <900)]\n",
    "df=df[(df.yearOfRegistration >=1950) & (df.yearOfRegistration <2017)]\n",
    "print(df.shape)"
   ]
  },
  {
   "cell_type": "code",
   "execution_count": 32,
   "id": "d6e373dc",
   "metadata": {},
   "outputs": [],
   "source": [
    "# df.drop(['name','abtest','dateCrawled','nrOfPictures','lastSeen','postalCode','dateCreated'],axis='columns',inplace=True)"
   ]
  },
  {
   "cell_type": "code",
   "execution_count": 33,
   "id": "1f15a2ca",
   "metadata": {},
   "outputs": [],
   "source": [
    "new_df=df.copy()\n",
    "new_df=new_df.drop_duplicates(['price','vehicleType','yearOfRegistration','gearbox','powerPS','model','kilometer','monthOfRegistration','fuelType','notRepairedDamage'])"
   ]
  },
  {
   "cell_type": "code",
   "execution_count": 34,
   "id": "0ac3ed78",
   "metadata": {},
   "outputs": [],
   "source": [
    "new_df.gearbox.replace(('manuell','automatik'),('manual','automatic'),inplace=True)\n",
    "new_df.fuelType.replace(('benzin','andere','elektro'),('petrol','others','electric'),inplace=True)\n",
    "new_df.vehicleType.replace(('kleinwagen','cabrio','kombi','andere'),('small car','convertible','combination','others'),inplace=True)\n",
    "new_df.notRepairedDamage.replace(('ja','nein'),('Yes','No'),inplace=True)"
   ]
  },
  {
   "cell_type": "code",
   "execution_count": 35,
   "id": "dfbec191",
   "metadata": {},
   "outputs": [],
   "source": [
    "new_df=new_df[(new_df.price >=100)&(new_df.price <=150000)]\n",
    "new_df['notRepairedDamage'].fillna(value='not-declared',inplace=True)\n",
    "new_df['fuelType'].fillna(value='not-declared',inplace=True)\n",
    "new_df['gearbox'].fillna(value='not-declared',inplace=True)\n",
    "# new_df['vehicleType'].fillna(value='not-declared',inplace=True)\n",
    "new_df['model'].fillna(value='not-declared',inplace=True)"
   ]
  },
  {
   "cell_type": "code",
   "execution_count": 36,
   "id": "8887cb7e",
   "metadata": {},
   "outputs": [],
   "source": [
    "# new_df.to_csv(\"autos_preprocessed.csv\")"
   ]
  },
  {
   "cell_type": "code",
   "execution_count": 37,
   "id": "09cc00c0",
   "metadata": {},
   "outputs": [
    {
     "name": "stdout",
     "output_type": "stream",
     "text": [
      "gearbox : LabelEncoder()\n",
      "notRepairedDamage : LabelEncoder()\n",
      "model : LabelEncoder()\n",
      "brand : LabelEncoder()\n",
      "fuelType : LabelEncoder()\n",
      "vehicleType : LabelEncoder()\n",
      "Index(['price', 'yearOfRegistration', 'powerPS', 'kilometer',\n",
      "       'monthOfRegistration', 'gearbox_labels', 'notRepairedDamage_labels',\n",
      "       'model_labels', 'brand_labels', 'fuelType_labels',\n",
      "       'vehicleType_labels'],\n",
      "      dtype='object')\n"
     ]
    }
   ],
   "source": [
    "from sklearn.preprocessing import LabelEncoder\n",
    "labels=['gearbox','notRepairedDamage','model','brand','fuelType','vehicleType']\n",
    "mapper={}\n",
    "for i in labels:\n",
    "    mapper[i]=LabelEncoder()\n",
    "    mapper[i].fit(new_df[i])\n",
    "    tr=mapper[i].transform(new_df[i])\n",
    "    np.save(str('classes'+i+'.npy'),mapper[i].classes_)\n",
    "    print(i,\":\",mapper[i])\n",
    "    new_df.loc[:,i+'_labels']=pd.Series(tr,index=new_df.index)\n",
    "labeled = new_df[['price','yearOfRegistration','powerPS','kilometer','monthOfRegistration']+[x+\"_labels\" for x in labels]]\n",
    "print(labeled.columns)"
   ]
  },
  {
   "cell_type": "code",
   "execution_count": 38,
   "id": "34aa9c5c",
   "metadata": {},
   "outputs": [],
   "source": [
    "Y=labeled.iloc[:,0].values\n",
    "X=labeled.iloc[:,1:].values\n",
    "Y=Y.reshape(-1,1)"
   ]
  },
  {
   "cell_type": "code",
   "execution_count": 39,
   "id": "2de52b45",
   "metadata": {},
   "outputs": [],
   "source": [
    "from sklearn.model_selection import cross_val_score,train_test_split\n",
    "X_train,X_test,Y_train,Y_test= train_test_split(X,Y,test_size=0.3,random_state=3)"
   ]
  },
  {
   "cell_type": "code",
   "execution_count": 40,
   "id": "f32bd01c",
   "metadata": {},
   "outputs": [
    {
     "data": {
      "text/plain": [
       "RandomForestRegressor(max_depth=10, n_estimators=1000, random_state=34)"
      ]
     },
     "execution_count": 40,
     "metadata": {},
     "output_type": "execute_result"
    }
   ],
   "source": [
    "from sklearn.ensemble import RandomForestRegressor\n",
    "from sklearn.metrics import r2_score\n",
    "regressor = RandomForestRegressor(n_estimators=1000,max_depth=10,random_state=34)\n",
    "regressor.fit(X_train,np.ravel(Y_train,order='C'))"
   ]
  },
  {
   "cell_type": "code",
   "execution_count": 41,
   "id": "306223ae",
   "metadata": {},
   "outputs": [
    {
     "name": "stdout",
     "output_type": "stream",
     "text": [
      "0.834527626497731\n"
     ]
    }
   ],
   "source": [
    "y_pred=regressor.predict(X_test)\n",
    "print(r2_score(Y_test,y_pred))"
   ]
  },
  {
   "cell_type": "code",
   "execution_count": 42,
   "id": "6ce6612e",
   "metadata": {},
   "outputs": [],
   "source": [
    "filename='resale_model.sav'\n",
    "pickle.dump(regressor,open(filename,'wb'))"
   ]
  }
 ],
 "metadata": {
  "kernelspec": {
   "display_name": "Python 3 (ipykernel)",
   "language": "python",
   "name": "python3"
  },
  "language_info": {
   "codemirror_mode": {
    "name": "ipython",
    "version": 3
   },
   "file_extension": ".py",
   "mimetype": "text/x-python",
   "name": "python",
   "nbconvert_exporter": "python",
   "pygments_lexer": "ipython3",
   "version": "3.9.12"
  }
 },
 "nbformat": 4,
 "nbformat_minor": 5
}
